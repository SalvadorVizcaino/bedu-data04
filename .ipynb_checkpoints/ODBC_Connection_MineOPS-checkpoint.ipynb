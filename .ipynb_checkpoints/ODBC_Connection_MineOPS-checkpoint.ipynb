{
 "cells": [
  {
   "cell_type": "code",
   "execution_count": 86,
   "metadata": {},
   "outputs": [],
   "source": [
    "import pyodbc\n",
    "import pandas as pd\n",
    "import seaborn as sns"
   ]
  },
  {
   "cell_type": "code",
   "execution_count": 87,
   "metadata": {},
   "outputs": [
    {
     "data": {
      "text/html": [
       "<div>\n",
       "<style scoped>\n",
       "    .dataframe tbody tr th:only-of-type {\n",
       "        vertical-align: middle;\n",
       "    }\n",
       "\n",
       "    .dataframe tbody tr th {\n",
       "        vertical-align: top;\n",
       "    }\n",
       "\n",
       "    .dataframe thead th {\n",
       "        text-align: right;\n",
       "    }\n",
       "</style>\n",
       "<table border=\"1\" class=\"dataframe\">\n",
       "  <thead>\n",
       "    <tr style=\"text-align: right;\">\n",
       "      <th></th>\n",
       "      <th>time</th>\n",
       "      <th>shift</th>\n",
       "      <th>shovel_operator_last_name</th>\n",
       "      <th>shovel_operator_first_name</th>\n",
       "      <th>shovel</th>\n",
       "      <th>shovel_equipment_type</th>\n",
       "      <th>load_count</th>\n",
       "      <th>material_tonnage</th>\n",
       "      <th>payload</th>\n",
       "      <th>payload_count</th>\n",
       "      <th>avg_payload</th>\n",
       "    </tr>\n",
       "  </thead>\n",
       "  <tbody>\n",
       "    <tr>\n",
       "      <th>0</th>\n",
       "      <td>2016-04-10</td>\n",
       "      <td>n</td>\n",
       "      <td>Verduzco Lazarit</td>\n",
       "      <td>Hector</td>\n",
       "      <td>P5029</td>\n",
       "      <td>P&amp;H 4100 PC</td>\n",
       "      <td>82</td>\n",
       "      <td>13120.0</td>\n",
       "      <td>NaN</td>\n",
       "      <td>0</td>\n",
       "      <td>NaN</td>\n",
       "    </tr>\n",
       "    <tr>\n",
       "      <th>1</th>\n",
       "      <td>2016-04-14</td>\n",
       "      <td>d</td>\n",
       "      <td>Novoa Campos</td>\n",
       "      <td>Javier</td>\n",
       "      <td>P5029</td>\n",
       "      <td>P&amp;H 4100 PC</td>\n",
       "      <td>13</td>\n",
       "      <td>2665.0</td>\n",
       "      <td>NaN</td>\n",
       "      <td>0</td>\n",
       "      <td>NaN</td>\n",
       "    </tr>\n",
       "    <tr>\n",
       "      <th>2</th>\n",
       "      <td>2016-04-14</td>\n",
       "      <td>d</td>\n",
       "      <td>Figueroa Aguilar</td>\n",
       "      <td>Jesus</td>\n",
       "      <td>P5029</td>\n",
       "      <td>P&amp;H 4100 PC</td>\n",
       "      <td>13</td>\n",
       "      <td>2665.0</td>\n",
       "      <td>NaN</td>\n",
       "      <td>0</td>\n",
       "      <td>NaN</td>\n",
       "    </tr>\n",
       "    <tr>\n",
       "      <th>3</th>\n",
       "      <td>2016-04-15</td>\n",
       "      <td>n</td>\n",
       "      <td>Guerra Luis</td>\n",
       "      <td>Pedro</td>\n",
       "      <td>P5029</td>\n",
       "      <td>P&amp;H 4100 PC</td>\n",
       "      <td>66</td>\n",
       "      <td>13395.0</td>\n",
       "      <td>7125.299805</td>\n",
       "      <td>44</td>\n",
       "      <td>161.938629</td>\n",
       "    </tr>\n",
       "    <tr>\n",
       "      <th>4</th>\n",
       "      <td>2016-04-16</td>\n",
       "      <td>d</td>\n",
       "      <td>Viera Martinez</td>\n",
       "      <td>Antonio</td>\n",
       "      <td>P5029</td>\n",
       "      <td>P&amp;H 4100 PC</td>\n",
       "      <td>31</td>\n",
       "      <td>6265.0</td>\n",
       "      <td>4346.500000</td>\n",
       "      <td>26</td>\n",
       "      <td>167.173080</td>\n",
       "    </tr>\n",
       "  </tbody>\n",
       "</table>\n",
       "</div>"
      ],
      "text/plain": [
       "        time shift shovel_operator_last_name shovel_operator_first_name  \\\n",
       "0 2016-04-10     n          Verduzco Lazarit                     Hector   \n",
       "1 2016-04-14     d              Novoa Campos                     Javier   \n",
       "2 2016-04-14     d          Figueroa Aguilar                      Jesus   \n",
       "3 2016-04-15     n               Guerra Luis                      Pedro   \n",
       "4 2016-04-16     d            Viera Martinez                    Antonio   \n",
       "\n",
       "  shovel shovel_equipment_type  load_count  material_tonnage      payload  \\\n",
       "0  P5029           P&H 4100 PC          82           13120.0          NaN   \n",
       "1  P5029           P&H 4100 PC          13            2665.0          NaN   \n",
       "2  P5029           P&H 4100 PC          13            2665.0          NaN   \n",
       "3  P5029           P&H 4100 PC          66           13395.0  7125.299805   \n",
       "4  P5029           P&H 4100 PC          31            6265.0  4346.500000   \n",
       "\n",
       "   payload_count  avg_payload  \n",
       "0              0          NaN  \n",
       "1              0          NaN  \n",
       "2              0          NaN  \n",
       "3             44   161.938629  \n",
       "4             26   167.173080  "
      ]
     },
     "execution_count": 87,
     "metadata": {},
     "output_type": "execute_result"
    }
   ],
   "source": [
    "# Conexión a SQL Server mediante ODBC:\n",
    "conn_string = \"Driver={SQL Server}; Server=192.168.200.31; Database=jmineops; Trusted_Connection=yes;\"\n",
    "conn = pyodbc.connect(conn_string)\n",
    "query = '''\\\n",
    "   SELECT [time]\n",
    "       ,[shift]\n",
    "       ,[shovel_operator_last_name]\n",
    "       ,[shovel_operator_first_name]\n",
    "       ,[shovel]\n",
    "       ,[shovel_equipment_type]\n",
    "       ,[load_count]\n",
    "       ,[material_tonnage]\n",
    "       ,[payload]\n",
    "       ,[payload_count]\n",
    "       ,(payload/nullif(payload_count,0)) as avg_payload\n",
    "   FROM [jmineops].[dbo].[by_shovel_operator_loads]\n",
    "   where deleted_at is null and shovel_operator is not null\n",
    "   '''\n",
    "shovel_loads = pd.read_sql(query,conn)\n",
    "shovel_loads.head()"
   ]
  },
  {
   "cell_type": "code",
   "execution_count": 88,
   "metadata": {},
   "outputs": [
    {
     "data": {
      "text/plain": [
       "time                          datetime64[ns]\n",
       "shift                                 object\n",
       "shovel_operator_last_name             object\n",
       "shovel_operator_first_name            object\n",
       "shovel                                object\n",
       "shovel_equipment_type                 object\n",
       "load_count                             int64\n",
       "material_tonnage                     float64\n",
       "payload                              float64\n",
       "payload_count                          int64\n",
       "avg_payload                          float64\n",
       "dtype: object"
      ]
     },
     "execution_count": 88,
     "metadata": {},
     "output_type": "execute_result"
    }
   ],
   "source": [
    "shovel_loads.dtypes"
   ]
  },
  {
   "cell_type": "code",
   "execution_count": 89,
   "metadata": {},
   "outputs": [
    {
     "data": {
      "image/png": "[encoded data removed]",
      "text/plain": [
       "<Figure size 432x288 with 1 Axes>"
      ]
     },
     "metadata": {
      "needs_background": "light"
     },
     "output_type": "display_data"
    }
   ],
   "source": [
    "sns.boxplot(x=shovel_loads['avg_payload']);"
   ]
  },
  {
   "cell_type": "code",
   "execution_count": 94,
   "metadata": {},
   "outputs": [],
   "source": [
    "ric = shovel_loads['avg_payload'].quantile(0.75) - shovel_loads['avg_payload'].quantile(0.25)\n",
    "filtro_sup = shovel_loads['avg_payload'] > shovel_loads['avg_payload'].quantile(0.25) - (ric * 1.5)\n",
    "filtro_inf = shovel_loads['avg_payload'] < shovel_loads['avg_payload'].quantile(0.75) + (ric * 1.5)\n",
    "sl_filtrado = shovel_loads[filtro_sup & filtro_inf]"
   ]
  },
  {
   "cell_type": "code",
   "execution_count": 95,
   "metadata": {},
   "outputs": [
    {
     "data": {
      "image/png": "[encoded data removed]",
      "text/plain": [
       "<Figure size 432x288 with 1 Axes>"
      ]
     },
     "metadata": {
      "needs_background": "light"
     },
     "output_type": "display_data"
    }
   ],
   "source": [
    "sns.boxplot(x=sl_filtrado['avg_payload']);"
   ]
  },
  {
   "cell_type": "code",
   "execution_count": 96,
   "metadata": {},
   "outputs": [
    {
     "name": "stderr",
     "output_type": "stream",
     "text": [
      "d:\\proyectospython\\bedu_data04\\.venv\\lib\\site-packages\\seaborn\\distributions.py:2551: FutureWarning: `distplot` is a deprecated function and will be removed in a future version. Please adapt your code to use either `displot` (a figure-level function with similar flexibility) or `histplot` (an axes-level function for histograms).\n",
      "  warnings.warn(msg, FutureWarning)\n"
     ]
    },
    {
     "data": {
      "image/png": "[encoded data removed]",
      "text/plain": [
       "<Figure size 432x288 with 1 Axes>"
      ]
     },
     "metadata": {
      "needs_background": "light"
     },
     "output_type": "display_data"
    }
   ],
   "source": [
    "sns.distplot(shovel_loads['avg_payload'], kde=True, hist=True);"
   ]
  },
  {
   "cell_type": "code",
   "execution_count": 98,
   "metadata": {},
   "outputs": [
    {
     "name": "stderr",
     "output_type": "stream",
     "text": [
      "d:\\proyectospython\\bedu_data04\\.venv\\lib\\site-packages\\seaborn\\distributions.py:2551: FutureWarning: `distplot` is a deprecated function and will be removed in a future version. Please adapt your code to use either `displot` (a figure-level function with similar flexibility) or `kdeplot` (an axes-level function for kernel density plots).\n",
      "  warnings.warn(msg, FutureWarning)\n"
     ]
    },
    {
     "data": {
      "image/png": "[encoded data removed]",
      "text/plain": [
       "<Figure size 432x288 with 1 Axes>"
      ]
     },
     "metadata": {
      "needs_background": "light"
     },
     "output_type": "display_data"
    }
   ],
   "source": [
    "sns.distplot(sl_filtrado['avg_payload'], kde=True, hist=False);"
   ]
  },
  {
   "cell_type": "code",
   "execution_count": 108,
   "metadata": {},
   "outputs": [],
   "source": [
    "Palas = sl_filtrado[sl_filtrado['shovel_equipment_type'] == 'P&H 4100 PC']\n",
    "Cargadores = sl_filtrado[(sl_filtrado['shovel_equipment_type'] == 'CAT 994F') | (sl_filtrado['shovel_equipment_type'] == 'CAT 994H')]"
   ]
  },
  {
   "cell_type": "code",
   "execution_count": 109,
   "metadata": {},
   "outputs": [
    {
     "name": "stderr",
     "output_type": "stream",
     "text": [
      "d:\\proyectospython\\bedu_data04\\.venv\\lib\\site-packages\\seaborn\\distributions.py:2551: FutureWarning: `distplot` is a deprecated function and will be removed in a future version. Please adapt your code to use either `displot` (a figure-level function with similar flexibility) or `kdeplot` (an axes-level function for kernel density plots).\n",
      "  warnings.warn(msg, FutureWarning)\n",
      "d:\\proyectospython\\bedu_data04\\.venv\\lib\\site-packages\\seaborn\\distributions.py:2551: FutureWarning: `distplot` is a deprecated function and will be removed in a future version. Please adapt your code to use either `displot` (a figure-level function with similar flexibility) or `kdeplot` (an axes-level function for kernel density plots).\n",
      "  warnings.warn(msg, FutureWarning)\n"
     ]
    },
    {
     "data": {
      "image/png": "[encoded data removed]",
      "text/plain": [
       "<Figure size 432x288 with 1 Axes>"
      ]
     },
     "metadata": {
      "needs_background": "light"
     },
     "output_type": "display_data"
    }
   ],
   "source": [
    "sns.distplot(Palas['avg_payload'], hist=False, kde_kws={'shade':True});\n",
    "sns.distplot(Cargadores['avg_payload'], hist=False, kde_kws={'shade':True});"
   ]
  },
  {
   "cell_type": "code",
   "execution_count": null,
   "metadata": {},
   "outputs": [],
   "source": []
  }
 ],
 "metadata": {
  "kernelspec": {
   "display_name": "Python 3",
   "language": "python",
   "name": "python3"
  },
  "language_info": {
   "codemirror_mode": {
    "name": "ipython",
    "version": 3
   },
   "file_extension": ".py",
   "mimetype": "text/x-python",
   "name": "python",
   "nbconvert_exporter": "python",
   "pygments_lexer": "ipython3",
   "version": "3.8.5"
  }
 },
 "nbformat": 4,
 "nbformat_minor": 4
}
